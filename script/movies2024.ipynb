{
  "cells": [
    {
      "cell_type": "markdown",
      "metadata": {
        "id": "f6XpDktLI1Tn"
      },
      "source": [
        "# Analyzing my movie watching history\n",
        "\n",
        "The project started in October 6th, 2020, with the project on github: https://github.com/kreier/movies\n",
        "\n",
        "After learning more about importing CSV files while teaching [Advanced Automation](https://github.com/ssis-aa) at SSIS 2022-2023 and working on my [timeline project](https://github.com/kreier/timeline) 2023-2024 I finally had the knowledge to combine it to further progress this project."
      ]
    },
    {
      "cell_type": "code",
      "execution_count": null,
      "metadata": {
        "colab": {
          "base_uri": "https://localhost:8080/"
        },
        "id": "sLr9Vr9TJsjv",
        "outputId": "163e3192-fa53-4f6a-c0bb-4ab36a3a6096"
      },
      "outputs": [],
      "source": [
        "# import the sample file\n",
        "\n",
        "import os, urllib3\n",
        "\n",
        "%cd /content\n",
        "current_path = os.getcwd()\n",
        "\n",
        "# Create folder for database\n",
        "folders = [\"script\", \"db\"]\n",
        "for folder in folders:\n",
        "  new_path = current_path + \"/\" + folder\n",
        "  if not os.path.exists(new_path):\n",
        "    os.makedirs(new_path)\n",
        "\n",
        "# Define function to import files to the virtual jupyter file system\n",
        "def import_file(source, target):\n",
        "  try:\n",
        "    with urllib3.PoolManager() as http:\n",
        "      with http.request('GET', source, preload_content=False, decode_content=False) as response:\n",
        "        if response.status == 200:\n",
        "          with open(target, 'wb') as file:\n",
        "            for chunk in response.stream(8192):\n",
        "              file.write(chunk)\n",
        "            print(f\"Download complete. File saved as {target}\")\n",
        "            # print(\".\", end=\"\")\n",
        "        else:\n",
        "            print(f\"Error: Unable to download file {source}. Status Code: {response.status}\")\n",
        "  except urllib3.exceptions.RequestError as e:\n",
        "    print(f\"Network Error: {e}\")\n",
        "  except Exception as e:\n",
        "    print(f\"Error: {e}\")\n",
        "\n",
        "path_required = \"https://raw.githubusercontent.com/kreier/movies/main/script/files_required.py\"\n",
        "import_file(path_required, \"required.py\")\n",
        "import required\n",
        "print(f\"Number of required files: {len(required.files)}. Downloading them now.\")\n",
        "for file in required.files:\n",
        "  source = \"https://raw.githubusercontent.com/kreier/movies/main/\" + file\n",
        "  target = file\n",
        "  import_file(source, target)"
      ]
    },
    {
      "cell_type": "code",
      "execution_count": null,
      "metadata": {},
      "outputs": [],
      "source": [
        "# parameter year\n",
        "year = \"1999\"\n",
        "\n",
        "# Start the import.py from the script subfolder, result will be in /db\n",
        "%cd /content/script\n",
        "import sys\n",
        "sys.argv = ['import.py',year]\n",
        "with open(\"import.py\") as file:\n",
        "  exec(file.read())"
      ]
    }
  ],
  "metadata": {
    "colab": {
      "provenance": []
    },
    "kernelspec": {
      "display_name": "Python 3",
      "name": "python3"
    },
    "language_info": {
      "name": "python"
    }
  },
  "nbformat": 4,
  "nbformat_minor": 0
}
